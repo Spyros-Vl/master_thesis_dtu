{
 "cells": [
  {
   "cell_type": "markdown",
   "metadata": {},
   "source": [
    "## Copy/move files from CSV files\n",
    "This notebook allow to copy or move files based on two columns of a CSV file "
   ]
  },
  {
   "cell_type": "markdown",
   "metadata": {},
   "source": [
    "### Load libraries"
   ]
  },
  {
   "cell_type": "code",
   "execution_count": null,
   "metadata": {},
   "outputs": [],
   "source": [
    "import os\n",
    "import shutil\n",
    "import pandas"
   ]
  },
  {
   "cell_type": "markdown",
   "metadata": {},
   "source": [
    "### Settings"
   ]
  },
  {
   "cell_type": "code",
   "execution_count": null,
   "metadata": {},
   "outputs": [],
   "source": [
    "inputdir = 'PATH_TO_INPUT_FOLDER' # Image folder, including subfolders\n",
    "filetypes = set(['.png', '.jpg', '.jpeg', '.bmp']) # Define filetypes to include\n",
    "outputdir = 'PATH_TO_OUTPUT_FOLDER' # Output folder\n",
    "move_files = False # Move files to destination, otherwise copy the files \n",
    "csv_path = 'FULL_PATH_TO_CSV_FILE' # Path to the CSV file\n",
    "csv_column1 = 'COL1' # First column of CSV containing filenames\n",
    "csv_column2 = 'COL2' # Second column of CSV containing sort variable, e.g. 'Fracture'\n",
    "csv_delimiter = ',' # CSV column delimiter"
   ]
  },
  {
   "cell_type": "markdown",
   "metadata": {},
   "source": [
    "### Main code"
   ]
  },
  {
   "cell_type": "code",
   "execution_count": null,
   "metadata": {
    "tags": [
     "outputPrepend"
    ]
   },
   "outputs": [],
   "source": [
    "if not os.path.exists(inputdir) or inputdir == outputdir or not os.path.isfile(csv_path):\n",
    "    print('ERROR (Directory/file issues): Please check paths.')\n",
    "    exit()\n",
    "\n",
    "# Fill dictionary from columns\n",
    "df = pandas.read_csv(os.path.normpath(csv_path), dtype=str, sep=csv_delimiter, \n",
    "    usecols=[csv_column1, csv_column2]).dropna()\n",
    "csv = df.set_index(csv_column1)[csv_column2].to_dict()\n",
    "\n",
    "# Iterate over FILES in folder and subfolders\n",
    "def main():\n",
    "    for paths, _, files in os.walk(os.path.normpath(inputdir), topdown=True):\n",
    "        for file in files:\n",
    "                if any(x in file.lower() for x in filetypes) == True:\n",
    "                    filestem = os.path.basename(file).split('.')[0]\n",
    "                    inputfile = os.path.join(paths, file)\n",
    "                    if filestem in csv and csv[filestem]:\n",
    "                        outputpath = os.path.normpath(os.path.join(outputdir, csv.get(filestem, '')))\n",
    "                        outputfile = os.path.join(outputpath, file)\n",
    "                        if os.path.isfile(outputfile) == True: \n",
    "                            print('SKIPPED (File exists), '+inputfile)\n",
    "                            continue\n",
    "                        if not os.path.exists(outputpath): os.makedirs(outputpath)\n",
    "                        if move_files == True: shutil.move(inputfile, outputfile)\n",
    "                        else: shutil.copy2(inputfile, outputfile)\n",
    "                        print('SUCCESS (File processed), ' + outputfile)\n",
    "                    else:\n",
    "                        print('SKIPPED (Value empty), '+ inputfile)\n",
    "\n",
    "if __name__ == '__main__':\n",
    "    main()"
   ]
  }
 ],
 "metadata": {
  "kernelspec": {
   "display_name": "Python 3",
   "language": "python",
   "name": "python3"
  },
  "language_info": {
   "codemirror_mode": {
    "name": "ipython",
    "version": 3
   },
   "file_extension": ".py",
   "mimetype": "text/x-python",
   "name": "python",
   "nbconvert_exporter": "python",
   "pygments_lexer": "ipython3",
   "version": "3.8.8"
  },
  "orig_nbformat": 2
 },
 "nbformat": 4,
 "nbformat_minor": 2
}
