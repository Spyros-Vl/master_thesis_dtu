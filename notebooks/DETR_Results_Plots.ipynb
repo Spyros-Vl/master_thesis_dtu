{
 "cells": [
  {
   "attachments": {},
   "cell_type": "markdown",
   "metadata": {},
   "source": [
    "## model try\n"
   ]
  },
  {
   "cell_type": "markdown",
   "metadata": {},
   "source": [
    "### Load libraries"
   ]
  },
  {
   "cell_type": "code",
   "execution_count": 1,
   "metadata": {},
   "outputs": [],
   "source": [
    "from cv2 import cv2\n",
    "import os\n",
    "import tqdm\n",
    "import json\n",
    "import time\n",
    "\n",
    "import pathlib\n",
    "from torch.utils.data import DataLoader\n",
    "import sys\n",
    "sys.path.append('../')\n",
    "from tqdm import tqdm\n",
    "import numpy as np\n",
    "\n",
    "from PIL import Image\n",
    "\n",
    "#for model\n",
    "import torchvision\n",
    "from torchvision.models.detection.faster_rcnn import FastRCNNPredictor\n",
    "from torchvision.models.detection import FasterRCNN\n",
    "from torchvision.models.detection.rpn import AnchorGenerator, RPNHead, RegionProposalNetwork\n",
    "from torchvision.models.detection.faster_rcnn import *\n",
    "import torch\n",
    "import matplotlib.pyplot as plt\n",
    "\n",
    "#DERT model\n",
    "from transformers import DetrForObjectDetection\n"
   ]
  },
  {
   "cell_type": "code",
   "execution_count": 2,
   "metadata": {},
   "outputs": [
    {
     "name": "stdout",
     "output_type": "stream",
     "text": [
      "c:\\Users\\spiro\\OneDrive\\Υπολογιστής\\Thesis\\Project\\master_thesis_dtu\\notebooks\n"
     ]
    }
   ],
   "source": [
    "print(os.getcwd())"
   ]
  },
  {
   "attachments": {},
   "cell_type": "markdown",
   "metadata": {},
   "source": [
    "Load model state\n"
   ]
  },
  {
   "cell_type": "code",
   "execution_count": 3,
   "metadata": {},
   "outputs": [
    {
     "data": {
      "text/plain": [
       "<All keys matched successfully>"
      ]
     },
     "execution_count": 3,
     "metadata": {},
     "output_type": "execute_result"
    }
   ],
   "source": [
    "from transformers import DetrConfig, DetrForObjectDetection\n",
    "\n",
    "config = DetrConfig.from_pretrained('facebook/detr-resnet-50',revision=\"no_timm\",num_labels=2,id2label={0:\"text\",1:\"fracture\"},\n",
    "                                                             ignore_mismatched_sizes=True) \n",
    "                                                             \n",
    "model = DetrForObjectDetection(config)\n",
    "model.load_state_dict(torch.load(f'../models/DETR_Model_last.pt'))"
   ]
  },
  {
   "cell_type": "code",
   "execution_count": 4,
   "metadata": {},
   "outputs": [],
   "source": [
    "\n",
    "def convert_to_xywh(boxes):\n",
    "    xmin, ymin, xmax, ymax = boxes.unbind(1)\n",
    "    return torch.stack((xmin, ymin, xmax - xmin, ymax - ymin), dim=1)\n",
    "\n",
    "def prepare_for_coco_detection(predictions):\n",
    "    coco_results = []\n",
    "    for original_id, prediction in predictions.items():\n",
    "        if len(prediction) == 0:\n",
    "            continue\n",
    "\n",
    "        boxes = prediction[\"boxes\"]\n",
    "        boxes = convert_to_xywh(boxes).tolist()\n",
    "        scores = prediction[\"scores\"].tolist()\n",
    "        labels = prediction[\"labels\"].tolist()\n",
    "\n",
    "        coco_results.extend(\n",
    "            [\n",
    "                {\n",
    "                    \"image_id\": original_id,\n",
    "                    \"category_id\": labels[k],\n",
    "                    \"bbox\": box,\n",
    "                    \"score\": scores[k],\n",
    "                }\n",
    "                for k, box in enumerate(boxes)\n",
    "            ]\n",
    "        )\n",
    "    return coco_results"
   ]
  },
  {
   "cell_type": "code",
   "execution_count": 5,
   "metadata": {},
   "outputs": [],
   "source": [
    "from coco_eval import CocoEvaluator\n",
    "from tqdm.notebook import tqdm"
   ]
  },
  {
   "attachments": {},
   "cell_type": "markdown",
   "metadata": {},
   "source": [
    "Load dataset"
   ]
  },
  {
   "cell_type": "code",
   "execution_count": 6,
   "metadata": {},
   "outputs": [
    {
     "name": "stdout",
     "output_type": "stream",
     "text": [
      "c:\\Users\\spiro\\OneDrive\\Υπολογιστής\\Thesis\\Project\\master_thesis_dtu\n",
      "loading annotations into memory...\n",
      "Done (t=0.05s)\n",
      "creating index...\n",
      "index created!\n"
     ]
    },
    {
     "name": "stderr",
     "output_type": "stream",
     "text": [
      "c:\\Users\\spiro\\anaconda3\\lib\\site-packages\\transformers\\models\\detr\\image_processing_detr.py:780: FutureWarning: The `max_size` parameter is deprecated and will be removed in v4.26. Please specify in `size['longest_edge'] instead`.\n",
      "  warnings.warn(\n"
     ]
    }
   ],
   "source": [
    "import sys\n",
    "sys.path.append('../')\n",
    "%cd ..\n",
    "from src.data.my_rpg_dataset import CocoDetection\n",
    "from src.data.my_rpg_dataset import collate_fn_COCO\n",
    "from transformers import DetrImageProcessor\n",
    "\n",
    "processor = DetrImageProcessor.from_pretrained(\"facebook/detr-resnet-50\")\n",
    "train_dataset = CocoDetection(path_folder=\"data\", processor=processor,status='test')\n",
    "train_dataloader = DataLoader(train_dataset, collate_fn=collate_fn_COCO, batch_size=1, shuffle=False,num_workers=0)"
   ]
  },
  {
   "cell_type": "code",
   "execution_count": 17,
   "metadata": {},
   "outputs": [],
   "source": [
    "evaluator = CocoEvaluator(coco_gt=train_dataset.coco, iou_types=[\"bbox\"])"
   ]
  },
  {
   "cell_type": "code",
   "execution_count": 8,
   "metadata": {},
   "outputs": [
    {
     "name": "stdout",
     "output_type": "stream",
     "text": [
      "No GPU available, using the CPU instead.\n"
     ]
    }
   ],
   "source": [
    "# train on the GPU or on the CPU, if a GPU is not available\n",
    "if torch.cuda.is_available():    \n",
    "    device = torch.device(\"cuda\")\n",
    "    print('There are %d GPU(s) available.' % torch.cuda.device_count())\n",
    "    print('We will use the GPU:', torch.cuda.get_device_name(0))\n",
    "\n",
    "else:\n",
    "    print('No GPU available, using the CPU instead.')\n",
    "    device = torch.device(\"cpu\")"
   ]
  },
  {
   "cell_type": "code",
   "execution_count": 9,
   "metadata": {},
   "outputs": [
    {
     "data": {
      "text/plain": [
       "DetrForObjectDetection(\n",
       "  (model): DetrModel(\n",
       "    (backbone): DetrConvModel(\n",
       "      (conv_encoder): DetrConvEncoder(\n",
       "        (model): ResNetBackbone(\n",
       "          (embedder): ResNetEmbeddings(\n",
       "            (embedder): ResNetConvLayer(\n",
       "              (convolution): Conv2d(3, 64, kernel_size=(7, 7), stride=(2, 2), padding=(3, 3), bias=False)\n",
       "              (normalization): DetrFrozenBatchNorm2d()\n",
       "              (activation): ReLU()\n",
       "            )\n",
       "            (pooler): MaxPool2d(kernel_size=3, stride=2, padding=1, dilation=1, ceil_mode=False)\n",
       "          )\n",
       "          (encoder): ResNetEncoder(\n",
       "            (stages): ModuleList(\n",
       "              (0): ResNetStage(\n",
       "                (layers): Sequential(\n",
       "                  (0): ResNetBottleNeckLayer(\n",
       "                    (shortcut): ResNetShortCut(\n",
       "                      (convolution): Conv2d(64, 256, kernel_size=(1, 1), stride=(1, 1), bias=False)\n",
       "                      (normalization): DetrFrozenBatchNorm2d()\n",
       "                    )\n",
       "                    (layer): Sequential(\n",
       "                      (0): ResNetConvLayer(\n",
       "                        (convolution): Conv2d(64, 64, kernel_size=(1, 1), stride=(1, 1), bias=False)\n",
       "                        (normalization): DetrFrozenBatchNorm2d()\n",
       "                        (activation): ReLU()\n",
       "                      )\n",
       "                      (1): ResNetConvLayer(\n",
       "                        (convolution): Conv2d(64, 64, kernel_size=(3, 3), stride=(1, 1), padding=(1, 1), bias=False)\n",
       "                        (normalization): DetrFrozenBatchNorm2d()\n",
       "                        (activation): ReLU()\n",
       "                      )\n",
       "                      (2): ResNetConvLayer(\n",
       "                        (convolution): Conv2d(64, 256, kernel_size=(1, 1), stride=(1, 1), bias=False)\n",
       "                        (normalization): DetrFrozenBatchNorm2d()\n",
       "                        (activation): Identity()\n",
       "                      )\n",
       "                    )\n",
       "                    (activation): ReLU()\n",
       "                  )\n",
       "                  (1): ResNetBottleNeckLayer(\n",
       "                    (shortcut): Identity()\n",
       "                    (layer): Sequential(\n",
       "                      (0): ResNetConvLayer(\n",
       "                        (convolution): Conv2d(256, 64, kernel_size=(1, 1), stride=(1, 1), bias=False)\n",
       "                        (normalization): DetrFrozenBatchNorm2d()\n",
       "                        (activation): ReLU()\n",
       "                      )\n",
       "                      (1): ResNetConvLayer(\n",
       "                        (convolution): Conv2d(64, 64, kernel_size=(3, 3), stride=(1, 1), padding=(1, 1), bias=False)\n",
       "                        (normalization): DetrFrozenBatchNorm2d()\n",
       "                        (activation): ReLU()\n",
       "                      )\n",
       "                      (2): ResNetConvLayer(\n",
       "                        (convolution): Conv2d(64, 256, kernel_size=(1, 1), stride=(1, 1), bias=False)\n",
       "                        (normalization): DetrFrozenBatchNorm2d()\n",
       "                        (activation): Identity()\n",
       "                      )\n",
       "                    )\n",
       "                    (activation): ReLU()\n",
       "                  )\n",
       "                  (2): ResNetBottleNeckLayer(\n",
       "                    (shortcut): Identity()\n",
       "                    (layer): Sequential(\n",
       "                      (0): ResNetConvLayer(\n",
       "                        (convolution): Conv2d(256, 64, kernel_size=(1, 1), stride=(1, 1), bias=False)\n",
       "                        (normalization): DetrFrozenBatchNorm2d()\n",
       "                        (activation): ReLU()\n",
       "                      )\n",
       "                      (1): ResNetConvLayer(\n",
       "                        (convolution): Conv2d(64, 64, kernel_size=(3, 3), stride=(1, 1), padding=(1, 1), bias=False)\n",
       "                        (normalization): DetrFrozenBatchNorm2d()\n",
       "                        (activation): ReLU()\n",
       "                      )\n",
       "                      (2): ResNetConvLayer(\n",
       "                        (convolution): Conv2d(64, 256, kernel_size=(1, 1), stride=(1, 1), bias=False)\n",
       "                        (normalization): DetrFrozenBatchNorm2d()\n",
       "                        (activation): Identity()\n",
       "                      )\n",
       "                    )\n",
       "                    (activation): ReLU()\n",
       "                  )\n",
       "                )\n",
       "              )\n",
       "              (1): ResNetStage(\n",
       "                (layers): Sequential(\n",
       "                  (0): ResNetBottleNeckLayer(\n",
       "                    (shortcut): ResNetShortCut(\n",
       "                      (convolution): Conv2d(256, 512, kernel_size=(1, 1), stride=(2, 2), bias=False)\n",
       "                      (normalization): DetrFrozenBatchNorm2d()\n",
       "                    )\n",
       "                    (layer): Sequential(\n",
       "                      (0): ResNetConvLayer(\n",
       "                        (convolution): Conv2d(256, 128, kernel_size=(1, 1), stride=(1, 1), bias=False)\n",
       "                        (normalization): DetrFrozenBatchNorm2d()\n",
       "                        (activation): ReLU()\n",
       "                      )\n",
       "                      (1): ResNetConvLayer(\n",
       "                        (convolution): Conv2d(128, 128, kernel_size=(3, 3), stride=(2, 2), padding=(1, 1), bias=False)\n",
       "                        (normalization): DetrFrozenBatchNorm2d()\n",
       "                        (activation): ReLU()\n",
       "                      )\n",
       "                      (2): ResNetConvLayer(\n",
       "                        (convolution): Conv2d(128, 512, kernel_size=(1, 1), stride=(1, 1), bias=False)\n",
       "                        (normalization): DetrFrozenBatchNorm2d()\n",
       "                        (activation): Identity()\n",
       "                      )\n",
       "                    )\n",
       "                    (activation): ReLU()\n",
       "                  )\n",
       "                  (1): ResNetBottleNeckLayer(\n",
       "                    (shortcut): Identity()\n",
       "                    (layer): Sequential(\n",
       "                      (0): ResNetConvLayer(\n",
       "                        (convolution): Conv2d(512, 128, kernel_size=(1, 1), stride=(1, 1), bias=False)\n",
       "                        (normalization): DetrFrozenBatchNorm2d()\n",
       "                        (activation): ReLU()\n",
       "                      )\n",
       "                      (1): ResNetConvLayer(\n",
       "                        (convolution): Conv2d(128, 128, kernel_size=(3, 3), stride=(1, 1), padding=(1, 1), bias=False)\n",
       "                        (normalization): DetrFrozenBatchNorm2d()\n",
       "                        (activation): ReLU()\n",
       "                      )\n",
       "                      (2): ResNetConvLayer(\n",
       "                        (convolution): Conv2d(128, 512, kernel_size=(1, 1), stride=(1, 1), bias=False)\n",
       "                        (normalization): DetrFrozenBatchNorm2d()\n",
       "                        (activation): Identity()\n",
       "                      )\n",
       "                    )\n",
       "                    (activation): ReLU()\n",
       "                  )\n",
       "                  (2): ResNetBottleNeckLayer(\n",
       "                    (shortcut): Identity()\n",
       "                    (layer): Sequential(\n",
       "                      (0): ResNetConvLayer(\n",
       "                        (convolution): Conv2d(512, 128, kernel_size=(1, 1), stride=(1, 1), bias=False)\n",
       "                        (normalization): DetrFrozenBatchNorm2d()\n",
       "                        (activation): ReLU()\n",
       "                      )\n",
       "                      (1): ResNetConvLayer(\n",
       "                        (convolution): Conv2d(128, 128, kernel_size=(3, 3), stride=(1, 1), padding=(1, 1), bias=False)\n",
       "                        (normalization): DetrFrozenBatchNorm2d()\n",
       "                        (activation): ReLU()\n",
       "                      )\n",
       "                      (2): ResNetConvLayer(\n",
       "                        (convolution): Conv2d(128, 512, kernel_size=(1, 1), stride=(1, 1), bias=False)\n",
       "                        (normalization): DetrFrozenBatchNorm2d()\n",
       "                        (activation): Identity()\n",
       "                      )\n",
       "                    )\n",
       "                    (activation): ReLU()\n",
       "                  )\n",
       "                  (3): ResNetBottleNeckLayer(\n",
       "                    (shortcut): Identity()\n",
       "                    (layer): Sequential(\n",
       "                      (0): ResNetConvLayer(\n",
       "                        (convolution): Conv2d(512, 128, kernel_size=(1, 1), stride=(1, 1), bias=False)\n",
       "                        (normalization): DetrFrozenBatchNorm2d()\n",
       "                        (activation): ReLU()\n",
       "                      )\n",
       "                      (1): ResNetConvLayer(\n",
       "                        (convolution): Conv2d(128, 128, kernel_size=(3, 3), stride=(1, 1), padding=(1, 1), bias=False)\n",
       "                        (normalization): DetrFrozenBatchNorm2d()\n",
       "                        (activation): ReLU()\n",
       "                      )\n",
       "                      (2): ResNetConvLayer(\n",
       "                        (convolution): Conv2d(128, 512, kernel_size=(1, 1), stride=(1, 1), bias=False)\n",
       "                        (normalization): DetrFrozenBatchNorm2d()\n",
       "                        (activation): Identity()\n",
       "                      )\n",
       "                    )\n",
       "                    (activation): ReLU()\n",
       "                  )\n",
       "                )\n",
       "              )\n",
       "              (2): ResNetStage(\n",
       "                (layers): Sequential(\n",
       "                  (0): ResNetBottleNeckLayer(\n",
       "                    (shortcut): ResNetShortCut(\n",
       "                      (convolution): Conv2d(512, 1024, kernel_size=(1, 1), stride=(2, 2), bias=False)\n",
       "                      (normalization): DetrFrozenBatchNorm2d()\n",
       "                    )\n",
       "                    (layer): Sequential(\n",
       "                      (0): ResNetConvLayer(\n",
       "                        (convolution): Conv2d(512, 256, kernel_size=(1, 1), stride=(1, 1), bias=False)\n",
       "                        (normalization): DetrFrozenBatchNorm2d()\n",
       "                        (activation): ReLU()\n",
       "                      )\n",
       "                      (1): ResNetConvLayer(\n",
       "                        (convolution): Conv2d(256, 256, kernel_size=(3, 3), stride=(2, 2), padding=(1, 1), bias=False)\n",
       "                        (normalization): DetrFrozenBatchNorm2d()\n",
       "                        (activation): ReLU()\n",
       "                      )\n",
       "                      (2): ResNetConvLayer(\n",
       "                        (convolution): Conv2d(256, 1024, kernel_size=(1, 1), stride=(1, 1), bias=False)\n",
       "                        (normalization): DetrFrozenBatchNorm2d()\n",
       "                        (activation): Identity()\n",
       "                      )\n",
       "                    )\n",
       "                    (activation): ReLU()\n",
       "                  )\n",
       "                  (1): ResNetBottleNeckLayer(\n",
       "                    (shortcut): Identity()\n",
       "                    (layer): Sequential(\n",
       "                      (0): ResNetConvLayer(\n",
       "                        (convolution): Conv2d(1024, 256, kernel_size=(1, 1), stride=(1, 1), bias=False)\n",
       "                        (normalization): DetrFrozenBatchNorm2d()\n",
       "                        (activation): ReLU()\n",
       "                      )\n",
       "                      (1): ResNetConvLayer(\n",
       "                        (convolution): Conv2d(256, 256, kernel_size=(3, 3), stride=(1, 1), padding=(1, 1), bias=False)\n",
       "                        (normalization): DetrFrozenBatchNorm2d()\n",
       "                        (activation): ReLU()\n",
       "                      )\n",
       "                      (2): ResNetConvLayer(\n",
       "                        (convolution): Conv2d(256, 1024, kernel_size=(1, 1), stride=(1, 1), bias=False)\n",
       "                        (normalization): DetrFrozenBatchNorm2d()\n",
       "                        (activation): Identity()\n",
       "                      )\n",
       "                    )\n",
       "                    (activation): ReLU()\n",
       "                  )\n",
       "                  (2): ResNetBottleNeckLayer(\n",
       "                    (shortcut): Identity()\n",
       "                    (layer): Sequential(\n",
       "                      (0): ResNetConvLayer(\n",
       "                        (convolution): Conv2d(1024, 256, kernel_size=(1, 1), stride=(1, 1), bias=False)\n",
       "                        (normalization): DetrFrozenBatchNorm2d()\n",
       "                        (activation): ReLU()\n",
       "                      )\n",
       "                      (1): ResNetConvLayer(\n",
       "                        (convolution): Conv2d(256, 256, kernel_size=(3, 3), stride=(1, 1), padding=(1, 1), bias=False)\n",
       "                        (normalization): DetrFrozenBatchNorm2d()\n",
       "                        (activation): ReLU()\n",
       "                      )\n",
       "                      (2): ResNetConvLayer(\n",
       "                        (convolution): Conv2d(256, 1024, kernel_size=(1, 1), stride=(1, 1), bias=False)\n",
       "                        (normalization): DetrFrozenBatchNorm2d()\n",
       "                        (activation): Identity()\n",
       "                      )\n",
       "                    )\n",
       "                    (activation): ReLU()\n",
       "                  )\n",
       "                  (3): ResNetBottleNeckLayer(\n",
       "                    (shortcut): Identity()\n",
       "                    (layer): Sequential(\n",
       "                      (0): ResNetConvLayer(\n",
       "                        (convolution): Conv2d(1024, 256, kernel_size=(1, 1), stride=(1, 1), bias=False)\n",
       "                        (normalization): DetrFrozenBatchNorm2d()\n",
       "                        (activation): ReLU()\n",
       "                      )\n",
       "                      (1): ResNetConvLayer(\n",
       "                        (convolution): Conv2d(256, 256, kernel_size=(3, 3), stride=(1, 1), padding=(1, 1), bias=False)\n",
       "                        (normalization): DetrFrozenBatchNorm2d()\n",
       "                        (activation): ReLU()\n",
       "                      )\n",
       "                      (2): ResNetConvLayer(\n",
       "                        (convolution): Conv2d(256, 1024, kernel_size=(1, 1), stride=(1, 1), bias=False)\n",
       "                        (normalization): DetrFrozenBatchNorm2d()\n",
       "                        (activation): Identity()\n",
       "                      )\n",
       "                    )\n",
       "                    (activation): ReLU()\n",
       "                  )\n",
       "                  (4): ResNetBottleNeckLayer(\n",
       "                    (shortcut): Identity()\n",
       "                    (layer): Sequential(\n",
       "                      (0): ResNetConvLayer(\n",
       "                        (convolution): Conv2d(1024, 256, kernel_size=(1, 1), stride=(1, 1), bias=False)\n",
       "                        (normalization): DetrFrozenBatchNorm2d()\n",
       "                        (activation): ReLU()\n",
       "                      )\n",
       "                      (1): ResNetConvLayer(\n",
       "                        (convolution): Conv2d(256, 256, kernel_size=(3, 3), stride=(1, 1), padding=(1, 1), bias=False)\n",
       "                        (normalization): DetrFrozenBatchNorm2d()\n",
       "                        (activation): ReLU()\n",
       "                      )\n",
       "                      (2): ResNetConvLayer(\n",
       "                        (convolution): Conv2d(256, 1024, kernel_size=(1, 1), stride=(1, 1), bias=False)\n",
       "                        (normalization): DetrFrozenBatchNorm2d()\n",
       "                        (activation): Identity()\n",
       "                      )\n",
       "                    )\n",
       "                    (activation): ReLU()\n",
       "                  )\n",
       "                  (5): ResNetBottleNeckLayer(\n",
       "                    (shortcut): Identity()\n",
       "                    (layer): Sequential(\n",
       "                      (0): ResNetConvLayer(\n",
       "                        (convolution): Conv2d(1024, 256, kernel_size=(1, 1), stride=(1, 1), bias=False)\n",
       "                        (normalization): DetrFrozenBatchNorm2d()\n",
       "                        (activation): ReLU()\n",
       "                      )\n",
       "                      (1): ResNetConvLayer(\n",
       "                        (convolution): Conv2d(256, 256, kernel_size=(3, 3), stride=(1, 1), padding=(1, 1), bias=False)\n",
       "                        (normalization): DetrFrozenBatchNorm2d()\n",
       "                        (activation): ReLU()\n",
       "                      )\n",
       "                      (2): ResNetConvLayer(\n",
       "                        (convolution): Conv2d(256, 1024, kernel_size=(1, 1), stride=(1, 1), bias=False)\n",
       "                        (normalization): DetrFrozenBatchNorm2d()\n",
       "                        (activation): Identity()\n",
       "                      )\n",
       "                    )\n",
       "                    (activation): ReLU()\n",
       "                  )\n",
       "                )\n",
       "              )\n",
       "              (3): ResNetStage(\n",
       "                (layers): Sequential(\n",
       "                  (0): ResNetBottleNeckLayer(\n",
       "                    (shortcut): ResNetShortCut(\n",
       "                      (convolution): Conv2d(1024, 2048, kernel_size=(1, 1), stride=(2, 2), bias=False)\n",
       "                      (normalization): DetrFrozenBatchNorm2d()\n",
       "                    )\n",
       "                    (layer): Sequential(\n",
       "                      (0): ResNetConvLayer(\n",
       "                        (convolution): Conv2d(1024, 512, kernel_size=(1, 1), stride=(1, 1), bias=False)\n",
       "                        (normalization): DetrFrozenBatchNorm2d()\n",
       "                        (activation): ReLU()\n",
       "                      )\n",
       "                      (1): ResNetConvLayer(\n",
       "                        (convolution): Conv2d(512, 512, kernel_size=(3, 3), stride=(2, 2), padding=(1, 1), bias=False)\n",
       "                        (normalization): DetrFrozenBatchNorm2d()\n",
       "                        (activation): ReLU()\n",
       "                      )\n",
       "                      (2): ResNetConvLayer(\n",
       "                        (convolution): Conv2d(512, 2048, kernel_size=(1, 1), stride=(1, 1), bias=False)\n",
       "                        (normalization): DetrFrozenBatchNorm2d()\n",
       "                        (activation): Identity()\n",
       "                      )\n",
       "                    )\n",
       "                    (activation): ReLU()\n",
       "                  )\n",
       "                  (1): ResNetBottleNeckLayer(\n",
       "                    (shortcut): Identity()\n",
       "                    (layer): Sequential(\n",
       "                      (0): ResNetConvLayer(\n",
       "                        (convolution): Conv2d(2048, 512, kernel_size=(1, 1), stride=(1, 1), bias=False)\n",
       "                        (normalization): DetrFrozenBatchNorm2d()\n",
       "                        (activation): ReLU()\n",
       "                      )\n",
       "                      (1): ResNetConvLayer(\n",
       "                        (convolution): Conv2d(512, 512, kernel_size=(3, 3), stride=(1, 1), padding=(1, 1), bias=False)\n",
       "                        (normalization): DetrFrozenBatchNorm2d()\n",
       "                        (activation): ReLU()\n",
       "                      )\n",
       "                      (2): ResNetConvLayer(\n",
       "                        (convolution): Conv2d(512, 2048, kernel_size=(1, 1), stride=(1, 1), bias=False)\n",
       "                        (normalization): DetrFrozenBatchNorm2d()\n",
       "                        (activation): Identity()\n",
       "                      )\n",
       "                    )\n",
       "                    (activation): ReLU()\n",
       "                  )\n",
       "                  (2): ResNetBottleNeckLayer(\n",
       "                    (shortcut): Identity()\n",
       "                    (layer): Sequential(\n",
       "                      (0): ResNetConvLayer(\n",
       "                        (convolution): Conv2d(2048, 512, kernel_size=(1, 1), stride=(1, 1), bias=False)\n",
       "                        (normalization): DetrFrozenBatchNorm2d()\n",
       "                        (activation): ReLU()\n",
       "                      )\n",
       "                      (1): ResNetConvLayer(\n",
       "                        (convolution): Conv2d(512, 512, kernel_size=(3, 3), stride=(1, 1), padding=(1, 1), bias=False)\n",
       "                        (normalization): DetrFrozenBatchNorm2d()\n",
       "                        (activation): ReLU()\n",
       "                      )\n",
       "                      (2): ResNetConvLayer(\n",
       "                        (convolution): Conv2d(512, 2048, kernel_size=(1, 1), stride=(1, 1), bias=False)\n",
       "                        (normalization): DetrFrozenBatchNorm2d()\n",
       "                        (activation): Identity()\n",
       "                      )\n",
       "                    )\n",
       "                    (activation): ReLU()\n",
       "                  )\n",
       "                )\n",
       "              )\n",
       "            )\n",
       "          )\n",
       "        )\n",
       "      )\n",
       "      (position_embedding): DetrSinePositionEmbedding()\n",
       "    )\n",
       "    (input_projection): Conv2d(2048, 256, kernel_size=(1, 1), stride=(1, 1))\n",
       "    (query_position_embeddings): Embedding(100, 256)\n",
       "    (encoder): DetrEncoder(\n",
       "      (layers): ModuleList(\n",
       "        (0): DetrEncoderLayer(\n",
       "          (self_attn): DetrAttention(\n",
       "            (k_proj): Linear(in_features=256, out_features=256, bias=True)\n",
       "            (v_proj): Linear(in_features=256, out_features=256, bias=True)\n",
       "            (q_proj): Linear(in_features=256, out_features=256, bias=True)\n",
       "            (out_proj): Linear(in_features=256, out_features=256, bias=True)\n",
       "          )\n",
       "          (self_attn_layer_norm): LayerNorm((256,), eps=1e-05, elementwise_affine=True)\n",
       "          (activation_fn): ReLU()\n",
       "          (fc1): Linear(in_features=256, out_features=2048, bias=True)\n",
       "          (fc2): Linear(in_features=2048, out_features=256, bias=True)\n",
       "          (final_layer_norm): LayerNorm((256,), eps=1e-05, elementwise_affine=True)\n",
       "        )\n",
       "        (1): DetrEncoderLayer(\n",
       "          (self_attn): DetrAttention(\n",
       "            (k_proj): Linear(in_features=256, out_features=256, bias=True)\n",
       "            (v_proj): Linear(in_features=256, out_features=256, bias=True)\n",
       "            (q_proj): Linear(in_features=256, out_features=256, bias=True)\n",
       "            (out_proj): Linear(in_features=256, out_features=256, bias=True)\n",
       "          )\n",
       "          (self_attn_layer_norm): LayerNorm((256,), eps=1e-05, elementwise_affine=True)\n",
       "          (activation_fn): ReLU()\n",
       "          (fc1): Linear(in_features=256, out_features=2048, bias=True)\n",
       "          (fc2): Linear(in_features=2048, out_features=256, bias=True)\n",
       "          (final_layer_norm): LayerNorm((256,), eps=1e-05, elementwise_affine=True)\n",
       "        )\n",
       "        (2): DetrEncoderLayer(\n",
       "          (self_attn): DetrAttention(\n",
       "            (k_proj): Linear(in_features=256, out_features=256, bias=True)\n",
       "            (v_proj): Linear(in_features=256, out_features=256, bias=True)\n",
       "            (q_proj): Linear(in_features=256, out_features=256, bias=True)\n",
       "            (out_proj): Linear(in_features=256, out_features=256, bias=True)\n",
       "          )\n",
       "          (self_attn_layer_norm): LayerNorm((256,), eps=1e-05, elementwise_affine=True)\n",
       "          (activation_fn): ReLU()\n",
       "          (fc1): Linear(in_features=256, out_features=2048, bias=True)\n",
       "          (fc2): Linear(in_features=2048, out_features=256, bias=True)\n",
       "          (final_layer_norm): LayerNorm((256,), eps=1e-05, elementwise_affine=True)\n",
       "        )\n",
       "        (3): DetrEncoderLayer(\n",
       "          (self_attn): DetrAttention(\n",
       "            (k_proj): Linear(in_features=256, out_features=256, bias=True)\n",
       "            (v_proj): Linear(in_features=256, out_features=256, bias=True)\n",
       "            (q_proj): Linear(in_features=256, out_features=256, bias=True)\n",
       "            (out_proj): Linear(in_features=256, out_features=256, bias=True)\n",
       "          )\n",
       "          (self_attn_layer_norm): LayerNorm((256,), eps=1e-05, elementwise_affine=True)\n",
       "          (activation_fn): ReLU()\n",
       "          (fc1): Linear(in_features=256, out_features=2048, bias=True)\n",
       "          (fc2): Linear(in_features=2048, out_features=256, bias=True)\n",
       "          (final_layer_norm): LayerNorm((256,), eps=1e-05, elementwise_affine=True)\n",
       "        )\n",
       "        (4): DetrEncoderLayer(\n",
       "          (self_attn): DetrAttention(\n",
       "            (k_proj): Linear(in_features=256, out_features=256, bias=True)\n",
       "            (v_proj): Linear(in_features=256, out_features=256, bias=True)\n",
       "            (q_proj): Linear(in_features=256, out_features=256, bias=True)\n",
       "            (out_proj): Linear(in_features=256, out_features=256, bias=True)\n",
       "          )\n",
       "          (self_attn_layer_norm): LayerNorm((256,), eps=1e-05, elementwise_affine=True)\n",
       "          (activation_fn): ReLU()\n",
       "          (fc1): Linear(in_features=256, out_features=2048, bias=True)\n",
       "          (fc2): Linear(in_features=2048, out_features=256, bias=True)\n",
       "          (final_layer_norm): LayerNorm((256,), eps=1e-05, elementwise_affine=True)\n",
       "        )\n",
       "        (5): DetrEncoderLayer(\n",
       "          (self_attn): DetrAttention(\n",
       "            (k_proj): Linear(in_features=256, out_features=256, bias=True)\n",
       "            (v_proj): Linear(in_features=256, out_features=256, bias=True)\n",
       "            (q_proj): Linear(in_features=256, out_features=256, bias=True)\n",
       "            (out_proj): Linear(in_features=256, out_features=256, bias=True)\n",
       "          )\n",
       "          (self_attn_layer_norm): LayerNorm((256,), eps=1e-05, elementwise_affine=True)\n",
       "          (activation_fn): ReLU()\n",
       "          (fc1): Linear(in_features=256, out_features=2048, bias=True)\n",
       "          (fc2): Linear(in_features=2048, out_features=256, bias=True)\n",
       "          (final_layer_norm): LayerNorm((256,), eps=1e-05, elementwise_affine=True)\n",
       "        )\n",
       "      )\n",
       "    )\n",
       "    (decoder): DetrDecoder(\n",
       "      (layers): ModuleList(\n",
       "        (0): DetrDecoderLayer(\n",
       "          (self_attn): DetrAttention(\n",
       "            (k_proj): Linear(in_features=256, out_features=256, bias=True)\n",
       "            (v_proj): Linear(in_features=256, out_features=256, bias=True)\n",
       "            (q_proj): Linear(in_features=256, out_features=256, bias=True)\n",
       "            (out_proj): Linear(in_features=256, out_features=256, bias=True)\n",
       "          )\n",
       "          (activation_fn): ReLU()\n",
       "          (self_attn_layer_norm): LayerNorm((256,), eps=1e-05, elementwise_affine=True)\n",
       "          (encoder_attn): DetrAttention(\n",
       "            (k_proj): Linear(in_features=256, out_features=256, bias=True)\n",
       "            (v_proj): Linear(in_features=256, out_features=256, bias=True)\n",
       "            (q_proj): Linear(in_features=256, out_features=256, bias=True)\n",
       "            (out_proj): Linear(in_features=256, out_features=256, bias=True)\n",
       "          )\n",
       "          (encoder_attn_layer_norm): LayerNorm((256,), eps=1e-05, elementwise_affine=True)\n",
       "          (fc1): Linear(in_features=256, out_features=2048, bias=True)\n",
       "          (fc2): Linear(in_features=2048, out_features=256, bias=True)\n",
       "          (final_layer_norm): LayerNorm((256,), eps=1e-05, elementwise_affine=True)\n",
       "        )\n",
       "        (1): DetrDecoderLayer(\n",
       "          (self_attn): DetrAttention(\n",
       "            (k_proj): Linear(in_features=256, out_features=256, bias=True)\n",
       "            (v_proj): Linear(in_features=256, out_features=256, bias=True)\n",
       "            (q_proj): Linear(in_features=256, out_features=256, bias=True)\n",
       "            (out_proj): Linear(in_features=256, out_features=256, bias=True)\n",
       "          )\n",
       "          (activation_fn): ReLU()\n",
       "          (self_attn_layer_norm): LayerNorm((256,), eps=1e-05, elementwise_affine=True)\n",
       "          (encoder_attn): DetrAttention(\n",
       "            (k_proj): Linear(in_features=256, out_features=256, bias=True)\n",
       "            (v_proj): Linear(in_features=256, out_features=256, bias=True)\n",
       "            (q_proj): Linear(in_features=256, out_features=256, bias=True)\n",
       "            (out_proj): Linear(in_features=256, out_features=256, bias=True)\n",
       "          )\n",
       "          (encoder_attn_layer_norm): LayerNorm((256,), eps=1e-05, elementwise_affine=True)\n",
       "          (fc1): Linear(in_features=256, out_features=2048, bias=True)\n",
       "          (fc2): Linear(in_features=2048, out_features=256, bias=True)\n",
       "          (final_layer_norm): LayerNorm((256,), eps=1e-05, elementwise_affine=True)\n",
       "        )\n",
       "        (2): DetrDecoderLayer(\n",
       "          (self_attn): DetrAttention(\n",
       "            (k_proj): Linear(in_features=256, out_features=256, bias=True)\n",
       "            (v_proj): Linear(in_features=256, out_features=256, bias=True)\n",
       "            (q_proj): Linear(in_features=256, out_features=256, bias=True)\n",
       "            (out_proj): Linear(in_features=256, out_features=256, bias=True)\n",
       "          )\n",
       "          (activation_fn): ReLU()\n",
       "          (self_attn_layer_norm): LayerNorm((256,), eps=1e-05, elementwise_affine=True)\n",
       "          (encoder_attn): DetrAttention(\n",
       "            (k_proj): Linear(in_features=256, out_features=256, bias=True)\n",
       "            (v_proj): Linear(in_features=256, out_features=256, bias=True)\n",
       "            (q_proj): Linear(in_features=256, out_features=256, bias=True)\n",
       "            (out_proj): Linear(in_features=256, out_features=256, bias=True)\n",
       "          )\n",
       "          (encoder_attn_layer_norm): LayerNorm((256,), eps=1e-05, elementwise_affine=True)\n",
       "          (fc1): Linear(in_features=256, out_features=2048, bias=True)\n",
       "          (fc2): Linear(in_features=2048, out_features=256, bias=True)\n",
       "          (final_layer_norm): LayerNorm((256,), eps=1e-05, elementwise_affine=True)\n",
       "        )\n",
       "        (3): DetrDecoderLayer(\n",
       "          (self_attn): DetrAttention(\n",
       "            (k_proj): Linear(in_features=256, out_features=256, bias=True)\n",
       "            (v_proj): Linear(in_features=256, out_features=256, bias=True)\n",
       "            (q_proj): Linear(in_features=256, out_features=256, bias=True)\n",
       "            (out_proj): Linear(in_features=256, out_features=256, bias=True)\n",
       "          )\n",
       "          (activation_fn): ReLU()\n",
       "          (self_attn_layer_norm): LayerNorm((256,), eps=1e-05, elementwise_affine=True)\n",
       "          (encoder_attn): DetrAttention(\n",
       "            (k_proj): Linear(in_features=256, out_features=256, bias=True)\n",
       "            (v_proj): Linear(in_features=256, out_features=256, bias=True)\n",
       "            (q_proj): Linear(in_features=256, out_features=256, bias=True)\n",
       "            (out_proj): Linear(in_features=256, out_features=256, bias=True)\n",
       "          )\n",
       "          (encoder_attn_layer_norm): LayerNorm((256,), eps=1e-05, elementwise_affine=True)\n",
       "          (fc1): Linear(in_features=256, out_features=2048, bias=True)\n",
       "          (fc2): Linear(in_features=2048, out_features=256, bias=True)\n",
       "          (final_layer_norm): LayerNorm((256,), eps=1e-05, elementwise_affine=True)\n",
       "        )\n",
       "        (4): DetrDecoderLayer(\n",
       "          (self_attn): DetrAttention(\n",
       "            (k_proj): Linear(in_features=256, out_features=256, bias=True)\n",
       "            (v_proj): Linear(in_features=256, out_features=256, bias=True)\n",
       "            (q_proj): Linear(in_features=256, out_features=256, bias=True)\n",
       "            (out_proj): Linear(in_features=256, out_features=256, bias=True)\n",
       "          )\n",
       "          (activation_fn): ReLU()\n",
       "          (self_attn_layer_norm): LayerNorm((256,), eps=1e-05, elementwise_affine=True)\n",
       "          (encoder_attn): DetrAttention(\n",
       "            (k_proj): Linear(in_features=256, out_features=256, bias=True)\n",
       "            (v_proj): Linear(in_features=256, out_features=256, bias=True)\n",
       "            (q_proj): Linear(in_features=256, out_features=256, bias=True)\n",
       "            (out_proj): Linear(in_features=256, out_features=256, bias=True)\n",
       "          )\n",
       "          (encoder_attn_layer_norm): LayerNorm((256,), eps=1e-05, elementwise_affine=True)\n",
       "          (fc1): Linear(in_features=256, out_features=2048, bias=True)\n",
       "          (fc2): Linear(in_features=2048, out_features=256, bias=True)\n",
       "          (final_layer_norm): LayerNorm((256,), eps=1e-05, elementwise_affine=True)\n",
       "        )\n",
       "        (5): DetrDecoderLayer(\n",
       "          (self_attn): DetrAttention(\n",
       "            (k_proj): Linear(in_features=256, out_features=256, bias=True)\n",
       "            (v_proj): Linear(in_features=256, out_features=256, bias=True)\n",
       "            (q_proj): Linear(in_features=256, out_features=256, bias=True)\n",
       "            (out_proj): Linear(in_features=256, out_features=256, bias=True)\n",
       "          )\n",
       "          (activation_fn): ReLU()\n",
       "          (self_attn_layer_norm): LayerNorm((256,), eps=1e-05, elementwise_affine=True)\n",
       "          (encoder_attn): DetrAttention(\n",
       "            (k_proj): Linear(in_features=256, out_features=256, bias=True)\n",
       "            (v_proj): Linear(in_features=256, out_features=256, bias=True)\n",
       "            (q_proj): Linear(in_features=256, out_features=256, bias=True)\n",
       "            (out_proj): Linear(in_features=256, out_features=256, bias=True)\n",
       "          )\n",
       "          (encoder_attn_layer_norm): LayerNorm((256,), eps=1e-05, elementwise_affine=True)\n",
       "          (fc1): Linear(in_features=256, out_features=2048, bias=True)\n",
       "          (fc2): Linear(in_features=2048, out_features=256, bias=True)\n",
       "          (final_layer_norm): LayerNorm((256,), eps=1e-05, elementwise_affine=True)\n",
       "        )\n",
       "      )\n",
       "      (layernorm): LayerNorm((256,), eps=1e-05, elementwise_affine=True)\n",
       "    )\n",
       "  )\n",
       "  (class_labels_classifier): Linear(in_features=256, out_features=3, bias=True)\n",
       "  (bbox_predictor): DetrMLPPredictionHead(\n",
       "    (layers): ModuleList(\n",
       "      (0): Linear(in_features=256, out_features=256, bias=True)\n",
       "      (1): Linear(in_features=256, out_features=256, bias=True)\n",
       "      (2): Linear(in_features=256, out_features=4, bias=True)\n",
       "    )\n",
       "  )\n",
       ")"
      ]
     },
     "execution_count": 9,
     "metadata": {},
     "output_type": "execute_result"
    }
   ],
   "source": [
    "model.eval()"
   ]
  },
  {
   "cell_type": "code",
   "execution_count": 12,
   "metadata": {},
   "outputs": [
    {
     "name": "stdout",
     "output_type": "stream",
     "text": [
      "c:\\Users\\spiro\\OneDrive\\Υπολογιστής\\Thesis\\Project\\master_thesis_dtu\n"
     ]
    }
   ],
   "source": [
    "%cd master_thesis_dtu"
   ]
  },
  {
   "cell_type": "code",
   "execution_count": 18,
   "metadata": {},
   "outputs": [
    {
     "name": "stdout",
     "output_type": "stream",
     "text": [
      "Running evaluation...\n"
     ]
    },
    {
     "data": {
      "application/vnd.jupyter.widget-view+json": {
       "model_id": "158db8c254a3448fa1f189d6fbab2e4e",
       "version_major": 2,
       "version_minor": 0
      },
      "text/plain": [
       "  0%|          | 0/3041 [00:00<?, ?it/s]"
      ]
     },
     "metadata": {},
     "output_type": "display_data"
    },
    {
     "name": "stdout",
     "output_type": "stream",
     "text": [
      "Accumulating evaluation results...\n",
      "DONE (t=0.02s).\n"
     ]
    },
    {
     "ename": "TypeError",
     "evalue": "summarize() got an unexpected keyword argument 'by_category'",
     "output_type": "error",
     "traceback": [
      "\u001b[1;31m---------------------------------------------------------------------------\u001b[0m",
      "\u001b[1;31mTypeError\u001b[0m                                 Traceback (most recent call last)",
      "\u001b[1;32mc:\\Users\\spiro\\OneDrive\\Υπολογιστής\\Thesis\\Project\\master_thesis_dtu\\notebooks\\DETR_Results_Plots.ipynb Cell 15\u001b[0m in \u001b[0;36m<cell line: 25>\u001b[1;34m()\u001b[0m\n\u001b[0;32m     <a href='vscode-notebook-cell:/c%3A/Users/spiro/OneDrive/%CE%A5%CF%80%CE%BF%CE%BB%CE%BF%CE%B3%CE%B9%CF%83%CF%84%CE%AE%CF%82/Thesis/Project/master_thesis_dtu/notebooks/DETR_Results_Plots.ipynb#X20sZmlsZQ%3D%3D?line=22'>23</a>\u001b[0m evaluator\u001b[39m.\u001b[39msynchronize_between_processes()\n\u001b[0;32m     <a href='vscode-notebook-cell:/c%3A/Users/spiro/OneDrive/%CE%A5%CF%80%CE%BF%CE%BB%CE%BF%CE%B3%CE%B9%CF%83%CF%84%CE%AE%CF%82/Thesis/Project/master_thesis_dtu/notebooks/DETR_Results_Plots.ipynb#X20sZmlsZQ%3D%3D?line=23'>24</a>\u001b[0m evaluator\u001b[39m.\u001b[39maccumulate()\n\u001b[1;32m---> <a href='vscode-notebook-cell:/c%3A/Users/spiro/OneDrive/%CE%A5%CF%80%CE%BF%CE%BB%CE%BF%CE%B3%CE%B9%CF%83%CF%84%CE%AE%CF%82/Thesis/Project/master_thesis_dtu/notebooks/DETR_Results_Plots.ipynb#X20sZmlsZQ%3D%3D?line=24'>25</a>\u001b[0m evaluator\u001b[39m.\u001b[39;49msummarize(by_category\u001b[39m=\u001b[39;49m\u001b[39mTrue\u001b[39;49;00m)\n",
      "\u001b[1;31mTypeError\u001b[0m: summarize() got an unexpected keyword argument 'by_category'"
     ]
    }
   ],
   "source": [
    "print(\"Running evaluation...\")\n",
    "for idx, batch in enumerate(tqdm(train_dataloader)):\n",
    "    # get the inputs\n",
    "    pixel_values = batch[\"pixel_values\"].to(device)\n",
    "    pixel_mask = batch[\"pixel_mask\"].to(device)\n",
    "    labels = [{k: v.to(device) for k, v in t.items()} for t in batch[\"labels\"]] # these are in DETR format, resized + normalized\n",
    "\n",
    "    # forward pass\n",
    "    with torch.no_grad():\n",
    "      outputs = model(pixel_values=pixel_values, pixel_mask=pixel_mask)\n",
    "\n",
    "    # turn into a list of dictionaries (one item for each example in the batch)\n",
    "    orig_target_sizes = torch.stack([target[\"orig_size\"] for target in labels], dim=0)\n",
    "    results = processor.post_process_object_detection(outputs, target_sizes=orig_target_sizes)\n",
    "    # provide to metric\n",
    "    # metric expects a list of dictionaries, each item \n",
    "    # containing image_id, category_id, bbox and score keys \n",
    "    predictions = {target['image_id'].item(): output for target, output in zip(labels, results)}\n",
    "    predictions = prepare_for_coco_detection(predictions)\n",
    "    evaluator.update(predictions)\n",
    "    if idx == 10 : break\n",
    "\n",
    "evaluator.synchronize_between_processes()\n",
    "evaluator.accumulate()\n",
    "evaluator.summarize(by_category=True)"
   ]
  },
  {
   "attachments": {},
   "cell_type": "markdown",
   "metadata": {},
   "source": [
    "Try do it per class"
   ]
  },
  {
   "cell_type": "code",
   "execution_count": null,
   "metadata": {},
   "outputs": [],
   "source": [
    "for catId in coco_gt.getCatIds():\n",
    "    coco_eval = COCOeval(coco_gt, coco_dt, \"bbox\")\n",
    "    coco_eval.params.catIds = [catId]\n",
    "    coco_eval.evaluate()\n",
    "    coco_eval.accumulate()\n",
    "    coco_eval.summarize()"
   ]
  },
  {
   "cell_type": "code",
   "execution_count": 21,
   "metadata": {},
   "outputs": [
    {
     "ename": "TypeError",
     "evalue": "evaluate() got an unexpected keyword argument 'score_threshold'",
     "output_type": "error",
     "traceback": [
      "\u001b[1;31m---------------------------------------------------------------------------\u001b[0m",
      "\u001b[1;31mTypeError\u001b[0m                                 Traceback (most recent call last)",
      "\u001b[1;32mc:\\Users\\spiro\\OneDrive\\Υπολογιστής\\Thesis\\Project\\master_thesis_dtu\\notebooks\\DETR_Results_Plots.ipynb Cell 17\u001b[0m in \u001b[0;36m<cell line: 2>\u001b[1;34m()\u001b[0m\n\u001b[0;32m      <a href='vscode-notebook-cell:/c%3A/Users/spiro/OneDrive/%CE%A5%CF%80%CE%BF%CE%BB%CE%BF%CE%B3%CE%B9%CF%83%CF%84%CE%AE%CF%82/Thesis/Project/master_thesis_dtu/notebooks/DETR_Results_Plots.ipynb#X51sZmlsZQ%3D%3D?line=0'>1</a>\u001b[0m coco_gt\u001b[39m=\u001b[39mtrain_dataset\u001b[39m.\u001b[39mcoco\n\u001b[1;32m----> <a href='vscode-notebook-cell:/c%3A/Users/spiro/OneDrive/%CE%A5%CF%80%CE%BF%CE%BB%CE%BF%CE%B3%CE%B9%CF%83%CF%84%CE%AE%CF%82/Thesis/Project/master_thesis_dtu/notebooks/DETR_Results_Plots.ipynb#X51sZmlsZQ%3D%3D?line=1'>2</a>\u001b[0m metrics \u001b[39m=\u001b[39m evaluator\u001b[39m.\u001b[39;49mcoco_eval[\u001b[39m'\u001b[39;49m\u001b[39mbbox\u001b[39;49m\u001b[39m'\u001b[39;49m]\u001b[39m.\u001b[39;49mevaluate(score_threshold\u001b[39m=\u001b[39;49m\u001b[39m0.7\u001b[39;49m)\n\u001b[0;32m      <a href='vscode-notebook-cell:/c%3A/Users/spiro/OneDrive/%CE%A5%CF%80%CE%BF%CE%BB%CE%BF%CE%B3%CE%B9%CF%83%CF%84%CE%AE%CF%82/Thesis/Project/master_thesis_dtu/notebooks/DETR_Results_Plots.ipynb#X51sZmlsZQ%3D%3D?line=2'>3</a>\u001b[0m metrics\n",
      "\u001b[1;31mTypeError\u001b[0m: evaluate() got an unexpected keyword argument 'score_threshold'"
     ]
    }
   ],
   "source": [
    "coco_gt=train_dataset.coco\n",
    "metrics = evaluator.coco_eval['bbox'].evaluate(score_threshold=0.7)\n",
    "metrics"
   ]
  },
  {
   "attachments": {},
   "cell_type": "markdown",
   "metadata": {},
   "source": [
    "## Model accuracy\n"
   ]
  },
  {
   "cell_type": "code",
   "execution_count": 59,
   "metadata": {},
   "outputs": [
    {
     "name": "stdout",
     "output_type": "stream",
     "text": [
      "----------------------Model evaluation started--------------------------\n"
     ]
    },
    {
     "data": {
      "application/vnd.jupyter.widget-view+json": {
       "model_id": "ea470f439b2e4af5844fac12a423ab9b",
       "version_major": 2,
       "version_minor": 0
      },
      "text/plain": [
       "  0%|          | 0/3041 [00:00<?, ?it/s]"
      ]
     },
     "metadata": {},
     "output_type": "display_data"
    },
    {
     "name": "stderr",
     "output_type": "stream",
     "text": [
      "c:\\Users\\spiro\\anaconda3\\lib\\site-packages\\transformers\\models\\detr\\image_processing_detr.py:886: FutureWarning: The `max_size` parameter is deprecated and will be removed in v4.26. Please specify in `size['longest_edge'] instead`.\n",
      "  warnings.warn(\n",
      "c:\\Users\\spiro\\anaconda3\\lib\\site-packages\\transformers\\models\\detr\\image_processing_detr.py:780: FutureWarning: The `max_size` parameter is deprecated and will be removed in v4.26. Please specify in `size['longest_edge'] instead`.\n",
      "  warnings.warn(\n"
     ]
    },
    {
     "name": "stdout",
     "output_type": "stream",
     "text": [
      "[{'image_id': 1, 'category_id': 0, 'bbox': [738.7398071289062, 559.0040283203125, 55.52734375, 72.81640625], 'score': 0.9962604641914368}, {'image_id': 1, 'category_id': 1, 'bbox': [273.4595642089844, 483.9195251464844, 157.85519409179688, 85.64578247070312], 'score': 0.959251880645752}]\n",
      "[{'size': tensor([1092,  800]), 'image_id': tensor([1]), 'class_labels': tensor([1, 0]), 'boxes': tensor([[0.4034, 0.4596, 0.1517, 0.0572],\n",
      "        [0.8851, 0.4966, 0.0644, 0.0623]]), 'area': tensor([7586.8203, 3502.6497]), 'iscrowd': tensor([0, 0]), 'orig_size': tensor([1188,  870])}]\n"
     ]
    },
    {
     "ename": "IndexError",
     "evalue": "list index out of range",
     "output_type": "error",
     "traceback": [
      "\u001b[1;31m---------------------------------------------------------------------------\u001b[0m",
      "\u001b[1;31mIndexError\u001b[0m                                Traceback (most recent call last)",
      "\u001b[1;32mc:\\Users\\spiro\\OneDrive\\Υπολογιστής\\Thesis\\Project\\master_thesis_dtu\\notebooks\\DETR_Results_Plots.ipynb Cell 17\u001b[0m in \u001b[0;36m<cell line: 13>\u001b[1;34m()\u001b[0m\n\u001b[0;32m     <a href='vscode-notebook-cell:/c%3A/Users/spiro/OneDrive/%CE%A5%CF%80%CE%BF%CE%BB%CE%BF%CE%B3%CE%B9%CF%83%CF%84%CE%AE%CF%82/Thesis/Project/master_thesis_dtu/notebooks/DETR_Results_Plots.ipynb#Y124sZmlsZQ%3D%3D?line=36'>37</a>\u001b[0m scores \u001b[39m=\u001b[39m [output[\u001b[39m'\u001b[39m\u001b[39mscore\u001b[39m\u001b[39m'\u001b[39m]]\n\u001b[0;32m     <a href='vscode-notebook-cell:/c%3A/Users/spiro/OneDrive/%CE%A5%CF%80%CE%BF%CE%BB%CE%BF%CE%B3%CE%B9%CF%83%CF%84%CE%AE%CF%82/Thesis/Project/master_thesis_dtu/notebooks/DETR_Results_Plots.ipynb#Y124sZmlsZQ%3D%3D?line=37'>38</a>\u001b[0m labels \u001b[39m=\u001b[39m [output[\u001b[39m'\u001b[39m\u001b[39mcategory_id\u001b[39m\u001b[39m'\u001b[39m]]\n\u001b[1;32m---> <a href='vscode-notebook-cell:/c%3A/Users/spiro/OneDrive/%CE%A5%CF%80%CE%BF%CE%BB%CE%BF%CE%B3%CE%B9%CF%83%CF%84%CE%AE%CF%82/Thesis/Project/master_thesis_dtu/notebooks/DETR_Results_Plots.ipynb#Y124sZmlsZQ%3D%3D?line=38'>39</a>\u001b[0m target_boxes \u001b[39m=\u001b[39m targets[i][\u001b[39m'\u001b[39m\u001b[39mboxes\u001b[39m\u001b[39m'\u001b[39m]\u001b[39m.\u001b[39mcpu()\n\u001b[0;32m     <a href='vscode-notebook-cell:/c%3A/Users/spiro/OneDrive/%CE%A5%CF%80%CE%BF%CE%BB%CE%BF%CE%B3%CE%B9%CF%83%CF%84%CE%AE%CF%82/Thesis/Project/master_thesis_dtu/notebooks/DETR_Results_Plots.ipynb#Y124sZmlsZQ%3D%3D?line=39'>40</a>\u001b[0m target_labels \u001b[39m=\u001b[39m targets[i][\u001b[39m'\u001b[39m\u001b[39mclass_labels\u001b[39m\u001b[39m'\u001b[39m]\u001b[39m.\u001b[39mcpu()\u001b[39m.\u001b[39mnumpy()\n\u001b[0;32m     <a href='vscode-notebook-cell:/c%3A/Users/spiro/OneDrive/%CE%A5%CF%80%CE%BF%CE%BB%CE%BF%CE%B3%CE%B9%CF%83%CF%84%CE%AE%CF%82/Thesis/Project/master_thesis_dtu/notebooks/DETR_Results_Plots.ipynb#Y124sZmlsZQ%3D%3D?line=40'>41</a>\u001b[0m total \u001b[39m+\u001b[39m\u001b[39m=\u001b[39m target_labels\u001b[39m.\u001b[39msize\n",
      "\u001b[1;31mIndexError\u001b[0m: list index out of range"
     ]
    }
   ],
   "source": [
    "from torchvision.ops import box_iou\n",
    "\n",
    "score_threshold = 0.8\n",
    "iou_threshold = 0.5\n",
    "\n",
    "print('----------------------Model evaluation started--------------------------')\n",
    "\n",
    "device = next(model.parameters()).device\n",
    "model.eval()\n",
    "correct = 0\n",
    "total = 0\n",
    "\n",
    "with torch.no_grad():\n",
    "    for idx, batch in enumerate(tqdm(train_dataloader)):\n",
    "        # get the inputs\n",
    "        pixel_values = batch[\"pixel_values\"].to(device)\n",
    "        pixel_mask = batch[\"pixel_mask\"].to(device)\n",
    "        targets = [{k: v.to(device) for k, v in t.items()} for t in batch[\"labels\"]] # these are in DETR format, resized + normalized\n",
    "       \n",
    "        outputs = model(pixel_values=pixel_values, pixel_mask=pixel_mask)\n",
    "\n",
    "        # turn into a list of dictionaries (one item for each example in the batch)\n",
    "        orig_target_sizes = torch.stack([target[\"orig_size\"] for target in targets], dim=0)\n",
    "        results = processor.post_process_object_detection(outputs, target_sizes=orig_target_sizes)\n",
    "        # provide to metric\n",
    "        # metric expects a list of dictionaries, each item \n",
    "        # containing image_id, category_id, bbox and score keys \n",
    "        predictions = {target['image_id'].item(): output for target, output in zip(targets, results)}\n",
    "        predictions = prepare_for_coco_detection(predictions)\n",
    "\n",
    "        outputs = predictions\n",
    "        print(outputs)\n",
    "        print(targets)\n",
    "\n",
    "        for i, output in enumerate(outputs):\n",
    "                boxes = torch.FloatTensor([output['bbox']])\n",
    "                scores = [output['score']]\n",
    "                labels = [output['category_id']]\n",
    "                target_boxes = targets[i]['boxes'].cpu()\n",
    "                target_labels = targets[i]['class_labels'].cpu().numpy()\n",
    "                total += target_labels.size\n",
    "                for box, score, label in zip(boxes, scores, labels):\n",
    "                    if label in target_labels:\n",
    "                        index = np.where(target_labels == label)[0][0]\n",
    "                        if score > score_threshold and box_iou(box.unsqueeze(0), target_boxes[index].unsqueeze(0)) > iou_threshold:\n",
    "                            correct += 1\n",
    "        if idx == 0 : break\n",
    "    accuracy = 10 * correct / total\n",
    "\n",
    "    print('----------------------train ended--------------------------')\n",
    "    print('The total model accuracy in the test set was: ', accuracy)"
   ]
  },
  {
   "cell_type": "code",
   "execution_count": 76,
   "metadata": {},
   "outputs": [
    {
     "name": "stdout",
     "output_type": "stream",
     "text": [
      "----------------------Model evaluation started--------------------------\n"
     ]
    },
    {
     "data": {
      "application/vnd.jupyter.widget-view+json": {
       "model_id": "355a5acaec754c37bc752a0a3f268514",
       "version_major": 2,
       "version_minor": 0
      },
      "text/plain": [
       "  0%|          | 0/3041 [00:00<?, ?it/s]"
      ]
     },
     "metadata": {},
     "output_type": "display_data"
    },
    {
     "name": "stdout",
     "output_type": "stream",
     "text": [
      "----------------------train ended--------------------------\n",
      "The total model accuracy in the test set was:  27.77777777777778\n"
     ]
    }
   ],
   "source": [
    "score_threshold = 0.7\n",
    "iou_threshold = 0.0\n",
    "\n",
    "print('----------------------Model evaluation started--------------------------')\n",
    "\n",
    "device = next(model.parameters()).device\n",
    "model.eval()\n",
    "correct = 0\n",
    "total = 0\n",
    "\n",
    "with torch.no_grad():\n",
    "    for idx, batch in enumerate(tqdm(train_dataloader)):\n",
    "        # get the inputs\n",
    "        pixel_values = batch[\"pixel_values\"].to(device)\n",
    "        pixel_mask = batch[\"pixel_mask\"].to(device)\n",
    "        targets = [{k: v.to(device) for k, v in t.items()} for t in batch[\"labels\"]] # these are in DETR format, resized + normalized\n",
    "       \n",
    "        outputs = model(pixel_values=pixel_values, pixel_mask=pixel_mask)\n",
    "\n",
    "        # turn into a list of dictionaries (one item for each example in the batch)\n",
    "        orig_target_sizes = torch.stack([target[\"orig_size\"] for target in targets], dim=0)\n",
    "        results = processor.post_process_object_detection(outputs, target_sizes=orig_target_sizes)\n",
    "        # provide to metric\n",
    "        # metric expects a list of dictionaries, each item \n",
    "        # containing image_id, category_id, bbox and score keys \n",
    "        predictions = {target['image_id'].item(): output for target, output in zip(targets, results)}\n",
    "        predictions = prepare_for_coco_detection(predictions)\n",
    "\n",
    "        outputs = predictions\n",
    "\n",
    "        for i, output in enumerate(outputs):\n",
    "            boxes = torch.FloatTensor([output['bbox']])\n",
    "            scores = [output['score']]\n",
    "            labels = [output['category_id']]\n",
    "            target_boxes_norm = targets[0]['boxes'].cpu()\n",
    "            target_labels = targets[0]['class_labels'].cpu().numpy()\n",
    "            target_size = targets[0]['size'].cpu().numpy()\n",
    "            total += target_labels.size\n",
    "\n",
    "            for box, score, label in zip(boxes, scores, labels):\n",
    "                if label in target_labels:\n",
    "                    index = np.where(target_labels == label)[0][0]\n",
    "                    target_box = target_boxes_norm[index]\n",
    "                    \n",
    "                    # convert normalized target box to original coordinates\n",
    "                    target_box *= torch.FloatTensor([target_size[1], target_size[0], target_size[1], target_size[0]])\n",
    "                    \n",
    "                    if score > score_threshold and box_iou(box.unsqueeze(0), target_box.unsqueeze(0)) >= iou_threshold:\n",
    "                        correct += 1\n",
    "        if idx == 5 : break\n",
    "    accuracy = 100 * correct / total\n",
    "\n",
    "    print('----------------------train ended--------------------------')\n",
    "    print('The total model accuracy in the test set was: ', accuracy)\n"
   ]
  },
  {
   "cell_type": "code",
   "execution_count": 72,
   "metadata": {},
   "outputs": [
    {
     "data": {
      "text/plain": [
       "tensor([273.4596, 483.9195, 157.8552,  85.6458])"
      ]
     },
     "execution_count": 72,
     "metadata": {},
     "output_type": "execute_result"
    }
   ],
   "source": [
    "box"
   ]
  },
  {
   "cell_type": "code",
   "execution_count": 73,
   "metadata": {},
   "outputs": [
    {
     "data": {
      "text/plain": [
       "tensor([322.7586, 501.8788, 121.3793,  62.5050])"
      ]
     },
     "execution_count": 73,
     "metadata": {},
     "output_type": "execute_result"
    }
   ],
   "source": [
    "target_box"
   ]
  },
  {
   "cell_type": "code",
   "execution_count": 71,
   "metadata": {},
   "outputs": [
    {
     "ename": "IndexError",
     "evalue": "too many indices for tensor of dimension 1",
     "output_type": "error",
     "traceback": [
      "\u001b[1;31m---------------------------------------------------------------------------\u001b[0m",
      "\u001b[1;31mIndexError\u001b[0m                                Traceback (most recent call last)",
      "\u001b[1;32mc:\\Users\\spiro\\OneDrive\\Υπολογιστής\\Thesis\\Project\\master_thesis_dtu\\notebooks\\DETR_Results_Plots.ipynb Cell 21\u001b[0m in \u001b[0;36m<cell line: 1>\u001b[1;34m()\u001b[0m\n\u001b[1;32m----> <a href='vscode-notebook-cell:/c%3A/Users/spiro/OneDrive/%CE%A5%CF%80%CE%BF%CE%BB%CE%BF%CE%B3%CE%B9%CF%83%CF%84%CE%AE%CF%82/Thesis/Project/master_thesis_dtu/notebooks/DETR_Results_Plots.ipynb#Y166sZmlsZQ%3D%3D?line=0'>1</a>\u001b[0m box_iou(box, target_box)\n",
      "File \u001b[1;32mc:\\Users\\spiro\\anaconda3\\lib\\site-packages\\torchvision\\ops\\boxes.py:271\u001b[0m, in \u001b[0;36mbox_iou\u001b[1;34m(boxes1, boxes2)\u001b[0m\n\u001b[0;32m    269\u001b[0m \u001b[39mif\u001b[39;00m \u001b[39mnot\u001b[39;00m torch\u001b[39m.\u001b[39mjit\u001b[39m.\u001b[39mis_scripting() \u001b[39mand\u001b[39;00m \u001b[39mnot\u001b[39;00m torch\u001b[39m.\u001b[39mjit\u001b[39m.\u001b[39mis_tracing():\n\u001b[0;32m    270\u001b[0m     _log_api_usage_once(box_iou)\n\u001b[1;32m--> 271\u001b[0m inter, union \u001b[39m=\u001b[39m _box_inter_union(boxes1, boxes2)\n\u001b[0;32m    272\u001b[0m iou \u001b[39m=\u001b[39m inter \u001b[39m/\u001b[39m union\n\u001b[0;32m    273\u001b[0m \u001b[39mreturn\u001b[39;00m iou\n",
      "File \u001b[1;32mc:\\Users\\spiro\\anaconda3\\lib\\site-packages\\torchvision\\ops\\boxes.py:241\u001b[0m, in \u001b[0;36m_box_inter_union\u001b[1;34m(boxes1, boxes2)\u001b[0m\n\u001b[0;32m    240\u001b[0m \u001b[39mdef\u001b[39;00m \u001b[39m_box_inter_union\u001b[39m(boxes1: Tensor, boxes2: Tensor) \u001b[39m-\u001b[39m\u001b[39m>\u001b[39m Tuple[Tensor, Tensor]:\n\u001b[1;32m--> 241\u001b[0m     area1 \u001b[39m=\u001b[39m box_area(boxes1)\n\u001b[0;32m    242\u001b[0m     area2 \u001b[39m=\u001b[39m box_area(boxes2)\n\u001b[0;32m    244\u001b[0m     lt \u001b[39m=\u001b[39m torch\u001b[39m.\u001b[39mmax(boxes1[:, \u001b[39mNone\u001b[39;00m, :\u001b[39m2\u001b[39m], boxes2[:, :\u001b[39m2\u001b[39m])  \u001b[39m# [N,M,2]\u001b[39;00m\n",
      "File \u001b[1;32mc:\\Users\\spiro\\anaconda3\\lib\\site-packages\\torchvision\\ops\\boxes.py:235\u001b[0m, in \u001b[0;36mbox_area\u001b[1;34m(boxes)\u001b[0m\n\u001b[0;32m    233\u001b[0m     _log_api_usage_once(box_area)\n\u001b[0;32m    234\u001b[0m boxes \u001b[39m=\u001b[39m _upcast(boxes)\n\u001b[1;32m--> 235\u001b[0m \u001b[39mreturn\u001b[39;00m (boxes[:, \u001b[39m2\u001b[39;49m] \u001b[39m-\u001b[39m boxes[:, \u001b[39m0\u001b[39m]) \u001b[39m*\u001b[39m (boxes[:, \u001b[39m3\u001b[39m] \u001b[39m-\u001b[39m boxes[:, \u001b[39m1\u001b[39m])\n",
      "\u001b[1;31mIndexError\u001b[0m: too many indices for tensor of dimension 1"
     ]
    }
   ],
   "source": [
    "box_iou(box.unsqueeze(0), target_box.unsqueeze(0))"
   ]
  },
  {
   "cell_type": "code",
   "execution_count": 57,
   "metadata": {},
   "outputs": [
    {
     "name": "stdout",
     "output_type": "stream",
     "text": [
      "Detected text with confidence 0.996 at location [738.74, 559.0, 794.27, 631.82]\n",
      "Detected fracture with confidence 0.959 at location [273.46, 483.92, 431.31, 569.57]\n"
     ]
    }
   ],
   "source": [
    "for score, label, box in zip(results[0][\"scores\"], results[0][\"labels\"], results[0][\"boxes\"]):\n",
    "    box = [round(i, 2) for i in box.tolist()]\n",
    "    print(\n",
    "        f\"Detected {model.config.id2label[label.item()]} with confidence \"\n",
    "        f\"{round(score.item(), 3)} at location {box}\"\n",
    "    )"
   ]
  },
  {
   "cell_type": "code",
   "execution_count": 58,
   "metadata": {},
   "outputs": [
    {
     "name": "stdout",
     "output_type": "stream",
     "text": [
      "(479, 399, 659, 449)\n"
     ]
    }
   ],
   "source": [
    "# get the first bounding box coordinates in the target\n",
    "normalized_box = targets[0]['boxes'][0]\n",
    "\n",
    "# get the original image size\n",
    "orig_size = targets[0]['orig_size']\n",
    "\n",
    "# convert the normalized bounding box to pixel coordinates\n",
    "x, y, w, h = normalized_box.tolist()\n",
    "top_left_x = int(x * orig_size[0])\n",
    "top_left_y = int(y * orig_size[1])\n",
    "bottom_right_x = int((x + w) * orig_size[0])\n",
    "bottom_right_y = int((y + h) * orig_size[1])\n",
    "\n",
    "# create a tuple with the pixel coordinates\n",
    "box_coords = (top_left_x, top_left_y, bottom_right_x, bottom_right_y)\n",
    "\n",
    "print(box_coords)"
   ]
  },
  {
   "cell_type": "code",
   "execution_count": 61,
   "metadata": {},
   "outputs": [
    {
     "data": {
      "text/plain": [
       "{'size': tensor([1092,  800]),\n",
       " 'image_id': tensor([1]),\n",
       " 'class_labels': tensor([1, 0]),\n",
       " 'boxes': tensor([[0.4034, 0.4596, 0.1517, 0.0572],\n",
       "         [0.8851, 0.4966, 0.0644, 0.0623]]),\n",
       " 'area': tensor([7586.8203, 3502.6497]),\n",
       " 'iscrowd': tensor([0, 0]),\n",
       " 'orig_size': tensor([1188,  870])}"
      ]
     },
     "execution_count": 61,
     "metadata": {},
     "output_type": "execute_result"
    }
   ],
   "source": [
    "targets[0]"
   ]
  },
  {
   "attachments": {},
   "cell_type": "markdown",
   "metadata": {},
   "source": [
    "#### Visualization"
   ]
  },
  {
   "cell_type": "code",
   "execution_count": 12,
   "metadata": {},
   "outputs": [],
   "source": [
    "cats = train_dataset.coco.cats\n",
    "id2label = {k: v['name'] for k,v in cats.items()}"
   ]
  },
  {
   "cell_type": "code",
   "execution_count": 13,
   "metadata": {},
   "outputs": [
    {
     "data": {
      "text/plain": [
       "{0: 'text', 1: 'fracture'}"
      ]
     },
     "execution_count": 13,
     "metadata": {},
     "output_type": "execute_result"
    }
   ],
   "source": [
    "id2label"
   ]
  },
  {
   "cell_type": "code",
   "execution_count": 14,
   "metadata": {},
   "outputs": [
    {
     "name": "stderr",
     "output_type": "stream",
     "text": [
      "c:\\Users\\spiro\\anaconda3\\lib\\site-packages\\transformers\\models\\detr\\image_processing_detr.py:886: FutureWarning: The `max_size` parameter is deprecated and will be removed in v4.26. Please specify in `size['longest_edge'] instead`.\n",
      "  warnings.warn(\n"
     ]
    }
   ],
   "source": [
    "#We can use the image_id in target to know which image it is\n",
    "pixel_values, target = train_dataset[1]"
   ]
  },
  {
   "cell_type": "code",
   "execution_count": 15,
   "metadata": {},
   "outputs": [
    {
     "name": "stdout",
     "output_type": "stream",
     "text": [
      "torch.Size([1, 3, 1080, 800])\n"
     ]
    }
   ],
   "source": [
    "pixel_values = pixel_values.unsqueeze(0).to(device)\n",
    "print(pixel_values.shape)"
   ]
  },
  {
   "cell_type": "code",
   "execution_count": 16,
   "metadata": {},
   "outputs": [
    {
     "name": "stdout",
     "output_type": "stream",
     "text": [
      "Outputs: odict_keys(['logits', 'pred_boxes', 'last_hidden_state', 'encoder_last_hidden_state'])\n"
     ]
    }
   ],
   "source": [
    "with torch.no_grad():\n",
    "  # forward pass to get class logits and bounding boxes\n",
    "  outputs = model(pixel_values=pixel_values, pixel_mask=None)\n",
    "print(\"Outputs:\", outputs.keys())"
   ]
  },
  {
   "cell_type": "code",
   "execution_count": 17,
   "metadata": {},
   "outputs": [],
   "source": [
    "postprocessed_outputs = processor.post_process_object_detection(outputs,\n",
    "                                                                \n",
    "                                                                threshold=0.6)"
   ]
  },
  {
   "cell_type": "code",
   "execution_count": 18,
   "metadata": {},
   "outputs": [
    {
     "data": {
      "text/plain": [
       "[{'scores': tensor([0.9987, 0.9967]),\n",
       "  'labels': tensor([0, 1]),\n",
       "  'boxes': tensor([[0.0962, 0.7667, 0.2084, 0.8986],\n",
       "          [0.5129, 0.5895, 0.7299, 0.6650]])}]"
      ]
     },
     "execution_count": 18,
     "metadata": {},
     "output_type": "execute_result"
    }
   ],
   "source": [
    "postprocessed_outputs"
   ]
  },
  {
   "cell_type": "code",
   "execution_count": 19,
   "metadata": {},
   "outputs": [],
   "source": [
    "# colors for visualization\n",
    "COLORS = [[0.000, 0.447, 0.741], [0.850, 0.325, 0.098], [0.929, 0.694, 0.125],\n",
    "          [0.494, 0.184, 0.556], [0.466, 0.674, 0.188], [0.301, 0.745, 0.933]]\n",
    "\n",
    "def plot_results(pil_img, scores, labels, boxes):\n",
    "    plt.figure(figsize=(16,10))\n",
    "    plt.imshow(np.asarray(pil_img),cmap='gray')\n",
    "    ax = plt.gca()\n",
    "    colors = COLORS * 100\n",
    "    for score, label, (xmin, ymin, xmax, ymax),c  in zip(scores.tolist(), labels.tolist(), boxes.tolist(), colors):\n",
    "        ax.add_patch(plt.Rectangle((xmin, ymin), xmax - xmin, ymax - ymin,\n",
    "                                   fill=False, color=c, linewidth=3))\n",
    "        text = f'{model.config.id2label[label]}: {score:0.2f}'\n",
    "        ax.text(xmin, ymin, text, fontsize=15,\n",
    "                bbox=dict(facecolor='yellow', alpha=0.5))\n",
    "    plt.axis('off')\n",
    "    plt.show()"
   ]
  },
  {
   "cell_type": "code",
   "execution_count": 21,
   "metadata": {},
   "outputs": [
    {
     "name": "stdout",
     "output_type": "stream",
     "text": [
      "c:\\Users\\spiro\\OneDrive\\Υπολογιστής\\Thesis\\Project\\master_thesis_dtu\\notebooks\n"
     ]
    }
   ],
   "source": [
    "%cd notebooks"
   ]
  },
  {
   "cell_type": "code",
   "execution_count": 22,
   "metadata": {},
   "outputs": [
    {
     "data": {
      "image/png": "[encoded data removed]",
      "text/plain": [
       "<Figure size 1152x720 with 1 Axes>"
      ]
     },
     "metadata": {
      "needs_background": "light"
     },
     "output_type": "display_data"
    }
   ],
   "source": [
    "# load image based on ID\n",
    "image_id = target['image_id'].item()\n",
    "image = train_dataset.coco.loadImgs(image_id)[0]\n",
    "image = Image.open(os.path.join(image['file_name']))\n",
    "\n",
    "\n",
    "# postprocess model outputs\n",
    "width, height = image.size\n",
    "postprocessed_outputs = processor.post_process_object_detection(outputs,\n",
    "                                                                target_sizes=[(height, width)],\n",
    "                                                                threshold=0.6)\n",
    "results = postprocessed_outputs[0]\n",
    "plot_results(image, results['scores'], results['labels'], results['boxes'])"
   ]
  },
  {
   "cell_type": "code",
   "execution_count": null,
   "metadata": {},
   "outputs": [],
   "source": []
  }
 ],
 "metadata": {
  "kernelspec": {
   "display_name": "base",
   "language": "python",
   "name": "python3"
  },
  "language_info": {
   "codemirror_mode": {
    "name": "ipython",
    "version": 3
   },
   "file_extension": ".py",
   "mimetype": "text/x-python",
   "name": "python",
   "nbconvert_exporter": "python",
   "pygments_lexer": "ipython3",
   "version": "3.8.8"
  },
  "vscode": {
   "interpreter": {
    "hash": "0b00de58b91327812a3543b0a54b44486ebb363ab132784d28226d0402cd7527"
   }
  }
 },
 "nbformat": 4,
 "nbformat_minor": 4
}
