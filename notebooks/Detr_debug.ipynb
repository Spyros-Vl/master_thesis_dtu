{
 "cells": [
  {
   "cell_type": "code",
   "execution_count": 1,
   "metadata": {},
   "outputs": [],
   "source": [
    "from cv2 import cv2\n",
    "import os\n",
    "import json\n",
    "import time\n",
    "import pickle\n",
    "\n",
    "import pathlib\n",
    "from torch.utils.data import DataLoader\n",
    "import sys\n",
    "sys.path.append('../')\n",
    "from src.data.my_rpg_dataset import CocoDetection\n",
    "from src.data.my_rpg_dataset import collate_fn_COCO\n",
    "from tqdm import tqdm\n",
    "\n",
    "#for model\n",
    "import torchvision\n",
    "from torchvision.models.detection.faster_rcnn import FastRCNNPredictor\n",
    "from torchvision.models.detection import FasterRCNN\n",
    "from torchvision.models.detection.rpn import AnchorGenerator, RPNHead, RegionProposalNetwork\n",
    "from transformers import DetrImageProcessor\n",
    "from transformers import DetrConfig, DetrForObjectDetection\n",
    "import torch\n",
    "from src.models.utils import *\n",
    "\n",
    "import warnings"
   ]
  },
  {
   "cell_type": "code",
   "execution_count": 3,
   "metadata": {},
   "outputs": [
    {
     "name": "stdout",
     "output_type": "stream",
     "text": [
      "c:\\Users\\spiro\\OneDrive\\Υπολογιστής\\Thesis\\Project\\master_thesis_dtu\n"
     ]
    }
   ],
   "source": [
    "%cd ..\n"
   ]
  },
  {
   "cell_type": "code",
   "execution_count": 6,
   "metadata": {},
   "outputs": [
    {
     "name": "stdout",
     "output_type": "stream",
     "text": [
      "loading annotations into memory...\n",
      "Done (t=0.04s)\n",
      "creating index...\n",
      "index created!\n",
      "----------------------train started--------------------------\n"
     ]
    },
    {
     "name": "stderr",
     "output_type": "stream",
     "text": [
      "100%|██████████| 3041/3041 [37:57<00:00,  1.34it/s] "
     ]
    },
    {
     "name": "stdout",
     "output_type": "stream",
     "text": [
      "----------------------train ended--------------------------\n"
     ]
    },
    {
     "name": "stderr",
     "output_type": "stream",
     "text": [
      "\n"
     ]
    }
   ],
   "source": [
    "NumOfClasses = 2 \n",
    "NumOfEpochs = 1\n",
    "BatchSize = 1\n",
    "num_workers = 0\n",
    "checkpoint = \"facebook/detr-resnet-50\"\n",
    "\n",
    "processor = DetrImageProcessor.from_pretrained(checkpoint)\n",
    "\n",
    "train_dataset = CocoDetection(path_folder=\"data\", processor=processor,train=False)\n",
    "train_dataloader = DataLoader(train_dataset, collate_fn=collate_fn_COCO, batch_size=BatchSize, shuffle=False,num_workers=num_workers)\n",
    "\n",
    "\n",
    "print('----------------------train started--------------------------')\n",
    "\n",
    "for idx, batch in enumerate(tqdm(train_dataloader)):\n",
    "    \n",
    "    # access the labels tensor from batch_data dictionary\n",
    "    pixel_values = batch[\"pixel_values\"]\n",
    "    pixel_mask = batch[\"pixel_mask\"]\n",
    "    labels = [{k: v for k, v in t.items()} for t in batch[\"labels\"]]\n",
    "    \n",
    "    t = labels[0]['boxes']\n",
    "    \n",
    "    # Check if the tensor contains NaNs\n",
    "    has_nans = torch.isnan(t).any().item()\n",
    "\n",
    "    if has_nans:\n",
    "        print(\"The tensor contains NaNs.\")\n",
    "        print(t)\n",
    "    \n",
    "print('----------------------train ended--------------------------')\n"
   ]
  },
  {
   "cell_type": "code",
   "execution_count": null,
   "metadata": {},
   "outputs": [],
   "source": []
  }
 ],
 "metadata": {
  "kernelspec": {
   "display_name": "base",
   "language": "python",
   "name": "python3"
  },
  "language_info": {
   "codemirror_mode": {
    "name": "ipython",
    "version": 3
   },
   "file_extension": ".py",
   "mimetype": "text/x-python",
   "name": "python",
   "nbconvert_exporter": "python",
   "pygments_lexer": "ipython3",
   "version": "3.8.8"
  },
  "orig_nbformat": 4
 },
 "nbformat": 4,
 "nbformat_minor": 2
}
