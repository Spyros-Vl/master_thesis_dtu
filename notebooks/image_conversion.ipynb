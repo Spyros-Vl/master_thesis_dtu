{
 "metadata": {
  "language_info": {
   "codemirror_mode": {
    "name": "ipython",
    "version": 3
   },
   "file_extension": ".py",
   "mimetype": "text/x-python",
   "name": "python",
   "nbconvert_exporter": "python",
   "pygments_lexer": "ipython3",
   "version": "3.8.2-final"
  },
  "orig_nbformat": 2,
  "kernelspec": {
   "name": "python3",
   "display_name": "Python 3",
   "language": "python"
  }
 },
 "nbformat": 4,
 "nbformat_minor": 2,
 "cells": [
  {
   "source": [
    "## Image conversion\n",
    "Version 2021-01-04"
   ],
   "cell_type": "markdown",
   "metadata": {}
  },
  {
   "source": [
    "### Load libraries"
   ],
   "cell_type": "markdown",
   "metadata": {}
  },
  {
   "cell_type": "code",
   "execution_count": null,
   "metadata": {},
   "outputs": [],
   "source": [
    "import os\n",
    "import pathlib\n",
    "import time\n",
    "import datetime\n",
    "import random\n",
    "import string\n",
    "import numpy as np\n",
    "from cv2 import cv2\n",
    "\n",
    "# pip install scikit-image (requires version 0.17.1 or higher)\n",
    "from skimage import exposure \n",
    "from skimage.filters import unsharp_mask"
   ]
  },
  {
   "source": [
    "### Settings\n",
    "Choose the desired directories and options"
   ],
   "cell_type": "markdown",
   "metadata": {}
  },
  {
   "cell_type": "code",
   "execution_count": null,
   "metadata": {},
   "outputs": [],
   "source": [
    "inputdir = pathlib.Path('PATH_TO_INPUT_FOLDER') # Directory and subdirectories with IMG files\n",
    "outputdir = pathlib.Path('PATH_TO_OUTPUT_FOLDER') # Output directory\n",
    "filetypes = set(['.tif', '.tiff', '.png', '.jpg', '.jpeg', '.bmp']) # Define filetypes to include\n",
    "output_filetype = '.png' # Filetype for output\n",
    "jpg_compression = '30' # JPG compression level \n",
    "outputbitdepth = 8 # Set output bit depth\n",
    "sharpen = False # Sharpen image\n",
    "convert_grayscale = False # Convert to grayscale\n",
    "equalize = True # CLAHE contrast enhancement\n",
    "intensity_crop = 0.05 # Set rescale intensity crop \n",
    "filename_random = False # Generate random file name\n",
    "relative = False # Keep folder structure if True\n",
    "overwrite = False # Overwrite images"
   ]
  },
  {
   "source": [
    "### Main code\n",
    "Do not change below this line"
   ],
   "cell_type": "markdown",
   "metadata": {}
  },
  {
   "cell_type": "code",
   "execution_count": null,
   "metadata": {
    "tags": [
     "outputPrepend"
    ]
   },
   "outputs": [],
   "source": [
    "if inputdir == outputdir or not os.path.exists(inputdir):\n",
    "    print('Error (Directory error): Please check folder paths.')\n",
    "    exit()\n",
    "    \n",
    "# Generate random string (to replace filename)\n",
    "def get_random_alphaNumeric_string(stringLength=8):\n",
    "    lettersAndDigits = string.ascii_letters + string.digits\n",
    "    return ''.join((random.choice(lettersAndDigits) for i in range(stringLength)))\n",
    "\n",
    "# Define main function\n",
    "def main():\n",
    "    for paths, _, files in os.walk(os.path.normpath(inputdir), topdown=True): # Walk through subfolders\n",
    "        for i, file in enumerate(files, start=1):\n",
    "            time_index = str(time.strftime(\"%H:%M:%S\", time.localtime()))+' ('+str(i).zfill(8)+')'\n",
    "            try:               \n",
    "                filepath = os.path.join(paths, file) # Path to input file\n",
    "                reldir = os.path.relpath(paths, inputdir) # Relative path to the inputdir\n",
    "                if relative == True: \n",
    "                    outputpath = os.path.normpath(os.path.join(outputdir, reldir)) # Create output path\n",
    "                else: \n",
    "                    outputpath = os.path.normpath(outputdir)\n",
    "                if filename_random == True: \n",
    "                    filename = get_random_alphaNumeric_string(32)\n",
    "                else: \n",
    "                    filename = file\n",
    "                if ('.' not in output_filetype): \n",
    "                    output_filetype_corr = '.'+output_filetype\n",
    "                else: \n",
    "                    output_filetype_corr = output_filetype\n",
    "                outputfile = os.path.normpath(pathlib.Path(os.path.join(outputpath, filename)).with_suffix(output_filetype_corr)) # Define outputfile and extension\n",
    "                if overwrite == False and os.path.isfile(outputfile) == True: \n",
    "                    print('SKIPPED (File exists), '+filepath+' - '+time_index)\n",
    "                    continue\n",
    "                else:\n",
    "                    if any(x in filepath.lower() for x in filetypes) == True:\n",
    "                        if not os.path.exists(outputpath): \n",
    "                            os.makedirs(outputpath)\n",
    "                        if convert_grayscale == True: \n",
    "                            img = cv2.imread(filepath, 0)\n",
    "                        else: \n",
    "                            img = cv2.imread(filepath, -cv2.IMREAD_ANYDEPTH)\n",
    "                            pass\n",
    "                        if img.dtype == 'uint16': \n",
    "                            img = (img / 65535.0).astype(np.float64)\n",
    "                        elif img.dtype == 'uint8': \n",
    "                            img = (img / 255.0).astype(np.float64)\n",
    "                        else: \n",
    "                            print('ERROR (Input bit depth not supported) ,'+filepath+' - '+time_index)\n",
    "                            continue\n",
    "                        if equalize == True:\n",
    "                            img = exposure.rescale_intensity(img, in_range=(np.percentile(img, intensity_crop), np.percentile(img, (100-intensity_crop))))\n",
    "                            img = exposure.equalize_adapthist(img)\n",
    "                        if sharpen == True: \n",
    "                            img = unsharp_mask(img, radius=1, amount=1)\n",
    "                        if outputbitdepth == 8: \n",
    "                            img = cv2.normalize(img, dst=None, alpha=0, beta=int((pow(2, outputbitdepth))-1), norm_type=cv2.NORM_MINMAX).astype(np.uint8)\n",
    "                        elif outputbitdepth == 16: \n",
    "                            img = cv2.normalize(img, dst=None, alpha=0, beta=int((pow(2, outputbitdepth))-1), norm_type=cv2.NORM_MINMAX).astype(np.uint16)\n",
    "                        else: \n",
    "                            print('ERROR (Output bit depth not supported) ,'+filepath+' - '+time_index)\n",
    "                            continue\n",
    "                        if (('jpg' or 'jpeg') in output_filetype.lower()) and jpg_compression:\n",
    "                            cv2.imwrite(outputfile, img, [cv2.IMWRITE_JPEG_QUALITY, int(jpg_compression)])\n",
    "                            print('SUCCESS (Conversion succeeded), '+filepath+' - '+time_index)\n",
    "                        else:\n",
    "                            cv2.imwrite(outputfile, img)\n",
    "                            print('SUCCESS (Conversion succeeded), '+filepath+' - '+time_index)\n",
    "            except:\n",
    "                print('ERROR (Conversion failed), '+filepath+' - '+time_index)                \n",
    "    else:\n",
    "        pass\n",
    "   \n",
    "# Call for main function\n",
    "if __name__ == \"__main__\":  \n",
    "    main()"
   ]
  }
 ]
}